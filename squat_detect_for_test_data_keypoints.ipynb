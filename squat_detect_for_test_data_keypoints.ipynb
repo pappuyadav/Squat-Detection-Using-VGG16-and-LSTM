{
  "nbformat": 4,
  "nbformat_minor": 0,
  "metadata": {
    "colab": {
      "name": "squat-detect-for test data keypoints.ipynb",
      "provenance": [],
      "collapsed_sections": [],
      "authorship_tag": "ABX9TyOh46TxJ3H4moO/sjzpLgP0",
      "include_colab_link": true
    },
    "kernelspec": {
      "name": "python3",
      "display_name": "Python 3"
    }
  },
  "cells": [
    {
      "cell_type": "markdown",
      "metadata": {
        "id": "view-in-github",
        "colab_type": "text"
      },
      "source": [
        "<a href=\"https://colab.research.google.com/github/pappuyadav/Squat-Detection-Using-VGG16-and-LSTM/blob/master/squat_detect_for_test_data_keypoints.ipynb\" target=\"_parent\"><img src=\"https://colab.research.google.com/assets/colab-badge.svg\" alt=\"Open In Colab\"/></a>"
      ]
    },
    {
      "cell_type": "code",
      "metadata": {
        "id": "HUmcqRyI-91b",
        "colab_type": "code",
        "colab": {}
      },
      "source": [
        "!pip install tensorflow==1.14.0"
      ],
      "execution_count": 0,
      "outputs": []
    },
    {
      "cell_type": "code",
      "metadata": {
        "id": "KEzfAqfF_OU7",
        "colab_type": "code",
        "colab": {}
      },
      "source": [
        "#Before testing with any new video dataset please first run this section of code and then upload keypoint files to the folder \"/content/testkeypoints\"\n",
        "#Make sure to also load trained model and weights files (\"trained_data_squats_keypoints.h5\" and \"trained_data_squats_keypoints.json\")\n",
        "!mkdir testkeypoints\n"
      ],
      "execution_count": 0,
      "outputs": []
    },
    {
      "cell_type": "code",
      "metadata": {
        "id": "tXmyj_LI_RTt",
        "colab_type": "code",
        "colab": {}
      },
      "source": [
        "#Use this for Test Dataset\n",
        "# Please use this section to test the model using your own test data sets keypoints generated from video image frames\n",
        "# load json and create model\n",
        "from tensorflow.keras.applications.vgg16 import VGG16, preprocess_input\n",
        "from tensorflow.keras.preprocessing.image import load_img, img_to_array\n",
        "from tensorflow.keras.preprocessing import sequence\n",
        "import os\n",
        "import numpy as np\n",
        "from keras.utils import np_utils\n",
        "from sklearn.utils import shuffle\n",
        "from keras.models import model_from_json\n",
        "import os\n",
        "import tensorflow as tf\n",
        "import json\n",
        "import pandas as pd\n",
        "import matplotlib.pyplot as plt\n",
        "import matplotlib.ticker as ticker\n",
        "\n",
        "json_file = open('/content/trained_data_squats_keypoints.json', 'r')\n",
        "loaded_model_json=json_file.read()\n",
        "json_file.close()\n",
        "loaded_model = tf.keras.models.model_from_json(loaded_model_json)\n",
        "\n",
        "# load weights into new model\n",
        "loaded_model.load_weights(\"/content/trained_data_squats_keypoints.h5\")\n",
        "print(\"The model weights have been loaded\")\n",
        "\n",
        "# evaluate loaded model on test data\n",
        "loaded_model.compile(loss='binary_crossentropy', optimizer='adam', metrics=['accuracy'])\n",
        "loaded_model.summary()\n",
        "#Loading Keypoints from Test Data Set \n",
        "\n",
        "#Defining a function to read json files i.e. keypoints files\n",
        "def read_josn(filepath):\n",
        "  with open(filepath,'r')as f:\n",
        "    data=json.load(f)\n",
        "  return(data)\n",
        "\n",
        "#Loading Test Data Set Keypoints\n",
        "test_keypoints=[]\n",
        "for file in os.listdir('/content/testkeypoints'):\n",
        "  full_path='/content/testkeypoints/'+ str(file)\n",
        "  #!rmdir -rf /content/nosquattestkeypoints/.ipynb_checkpoints\n",
        "  aa=read_josn(full_path)\n",
        "  df=pd.DataFrame(aa)\n",
        "  df=df['people'][0]['pose_keypoints_2d']\n",
        "  test_keypoints.append(df)\n",
        "\n",
        "#Creating test array\n",
        "test_keypoints=np.array(test_keypoints)\n",
        "test_keypoints=test_keypoints.reshape(len(test_keypoints),1,75)\n",
        "timestep=1\n",
        "test_data = sequence.pad_sequences(test_keypoints, maxlen=timestep) \n",
        "#Now the test dataset is prepared for making predictions\n",
        "#Using the pretrained model to make predictions of test data keypoints\n",
        "temp=loaded_model.predict(test_data)\n",
        "temp1=loaded_model.predict_classes(test_data)\n",
        "yhat_probs = temp[:,0]\n",
        "yhat_probs=yhat_probs[:,0]\n",
        "b=np.array(yhat_probs)\n",
        "yhat_classes = temp1[:,0]\n",
        "\n",
        "video_length=4     # Please enter length of video file in seconds\n",
        "fps=len(test_keypoints)/video_length              \n",
        "disp_time=1/fps\n",
        "time=[]\n",
        "\n",
        "#Plotting the time-label grapgh\n",
        "#Please update plot title and plot figure save file name accordingly\n",
        "for i in range(len(b)):\n",
        "  step=disp_time*i\n",
        "  time.append(step)\n",
        "\n",
        "fig, ax = plt.subplots()\n",
        "ax.plot(time,b)\n",
        "start, end = ax.get_xlim()\n",
        "ax.xaxis.set_ticks(np.arange(start, end, 0.25))\n",
        "ax.xaxis.set_major_formatter(ticker.FormatStrFormatter('%0.1f'))\n",
        "plt.xlabel(\"Time(seconds)\")\n",
        "plt.ylabel(\"Squat-Pose Label\")\n",
        "plt.title(\"Time-Label Plot for 6600_2\")\n",
        "plt.grid(True)\n",
        "plt.savefig('plot_6600_2.png')\n",
        "\n",
        "\n",
        "groupdata=[]\n",
        "for i in range(len(b)):\n",
        "  #print(i)\n",
        "  c=[time[i],b[i]]\n",
        "  groupdata.append(c)\n",
        "\n",
        "\n",
        "#Writing the output JSON file for \"squats\" that contain pairs of data.\n",
        "#The first value of each pair represents time and the second value represents probability of the squat label\n",
        "data={}\n",
        "data['squats']=[]\n",
        "data['squats'].append(groupdata)\n",
        "f = open(\"data_6600_2.json\",\"w\")   #Please update file name accordingly\n",
        "f.write(str(data))\n",
        "f.close()\n"
      ],
      "execution_count": 0,
      "outputs": []
    }
  ]
}